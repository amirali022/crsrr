{
 "cells": [
  {
   "cell_type": "code",
   "execution_count": 1,
   "metadata": {},
   "outputs": [],
   "source": [
    "import os\n",
    "import numpy as np\n",
    "import pandas as pd"
   ]
  },
  {
   "cell_type": "code",
   "execution_count": 2,
   "metadata": {},
   "outputs": [
    {
     "name": "stdout",
     "output_type": "stream",
     "text": [
      "['list-1694258115356.csv' 'list-1694258492351.csv'\n",
      " 'list-1694258718776.csv' 'list-1694259362398.csv'\n",
      " 'list-1694259809580.csv' 'list-1694260690587.csv'\n",
      " 'list-1694261209892.csv' 'list-1694261743323.csv'\n",
      " 'list-1694262320593.csv' 'list-1694262507647.csv'\n",
      " 'list-1694262740493.csv' 'list-1694262888884.csv'\n",
      " 'list-1694263313479.csv' 'list-1694263397837.csv'\n",
      " 'list-1694263454212.csv' 'list-1694265495688.csv'\n",
      " 'list-1694265613129.csv' 'list-1694265824554.csv'\n",
      " 'list-1694265914560.csv' 'list-1694266074686.csv'\n",
      " 'list-1694266332329.csv' 'list-1694266738770.csv']\n"
     ]
    }
   ],
   "source": [
    "path = \"../../data/faradars/instructorList/\"\n",
    "\n",
    "listDatasets = np.array( os.listdir( path))\n",
    "\n",
    "listDatasets = listDatasets[ np.flatnonzero( np.core.defchararray.find( listDatasets, \"csv\") != -1)]\n",
    "\n",
    "print( listDatasets)"
   ]
  },
  {
   "cell_type": "code",
   "execution_count": 3,
   "metadata": {},
   "outputs": [
    {
     "data": {
      "text/html": [
       "<div>\n",
       "<style scoped>\n",
       "    .dataframe tbody tr th:only-of-type {\n",
       "        vertical-align: middle;\n",
       "    }\n",
       "\n",
       "    .dataframe tbody tr th {\n",
       "        vertical-align: top;\n",
       "    }\n",
       "\n",
       "    .dataframe thead th {\n",
       "        text-align: right;\n",
       "    }\n",
       "</style>\n",
       "<table border=\"1\" class=\"dataframe\">\n",
       "  <thead>\n",
       "    <tr style=\"text-align: right;\">\n",
       "      <th></th>\n",
       "      <th>id</th>\n",
       "      <th>first_name</th>\n",
       "      <th>last_name</th>\n",
       "      <th>first_name_en</th>\n",
       "      <th>last_name_en</th>\n",
       "      <th>gender</th>\n",
       "      <th>photo</th>\n",
       "      <th>field</th>\n",
       "      <th>profile_picture</th>\n",
       "      <th>degree</th>\n",
       "      <th>categories</th>\n",
       "      <th>categories_fa</th>\n",
       "      <th>price</th>\n",
       "      <th>sold_n</th>\n",
       "      <th>type</th>\n",
       "      <th>duration</th>\n",
       "      <th>createdAt</th>\n",
       "      <th>rating</th>\n",
       "      <th>rating_n</th>\n",
       "    </tr>\n",
       "  </thead>\n",
       "  <tbody>\n",
       "    <tr>\n",
       "      <th>0</th>\n",
       "      <td>9233420</td>\n",
       "      <td>واحد سنجش</td>\n",
       "      <td>و آزمون فرادرس</td>\n",
       "      <td>NaN</td>\n",
       "      <td>NaN</td>\n",
       "      <td>NaN</td>\n",
       "      <td>NaN</td>\n",
       "      <td>NaN</td>\n",
       "      <td>NaN</td>\n",
       "      <td>word.profile_degree.</td>\n",
       "      <td>geology|min-geosciences</td>\n",
       "      <td>زمین‌شناسی|مهندسی معدن و علوم زمین</td>\n",
       "      <td>0</td>\n",
       "      <td>4</td>\n",
       "      <td>exam</td>\n",
       "      <td>0</td>\n",
       "      <td>2023-07-11T20:03:15.000000Z</td>\n",
       "      <td>0.0</td>\n",
       "      <td>0</td>\n",
       "    </tr>\n",
       "    <tr>\n",
       "      <th>1</th>\n",
       "      <td>9233417</td>\n",
       "      <td>واحد سنجش</td>\n",
       "      <td>و آزمون فرادرس</td>\n",
       "      <td>NaN</td>\n",
       "      <td>NaN</td>\n",
       "      <td>NaN</td>\n",
       "      <td>NaN</td>\n",
       "      <td>NaN</td>\n",
       "      <td>NaN</td>\n",
       "      <td>word.profile_degree.</td>\n",
       "      <td>engineering</td>\n",
       "      <td>فنی و مهندسی</td>\n",
       "      <td>0</td>\n",
       "      <td>4</td>\n",
       "      <td>exam</td>\n",
       "      <td>0</td>\n",
       "      <td>2023-07-11T16:54:54.000000Z</td>\n",
       "      <td>0.0</td>\n",
       "      <td>0</td>\n",
       "    </tr>\n",
       "    <tr>\n",
       "      <th>2</th>\n",
       "      <td>9233488</td>\n",
       "      <td>واحد سنجش</td>\n",
       "      <td>و آزمون فرادرس</td>\n",
       "      <td>NaN</td>\n",
       "      <td>NaN</td>\n",
       "      <td>NaN</td>\n",
       "      <td>NaN</td>\n",
       "      <td>NaN</td>\n",
       "      <td>NaN</td>\n",
       "      <td>word.profile_degree.</td>\n",
       "      <td>academic-courses|postgraduate-entrance|agricul...</td>\n",
       "      <td>آموزش‌های دانشگاهی|تحصیلات تکمیلی|مهندسی کشاورزی</td>\n",
       "      <td>0</td>\n",
       "      <td>2</td>\n",
       "      <td>exam</td>\n",
       "      <td>0</td>\n",
       "      <td>2023-07-15T21:34:37.000000Z</td>\n",
       "      <td>0.0</td>\n",
       "      <td>0</td>\n",
       "    </tr>\n",
       "    <tr>\n",
       "      <th>3</th>\n",
       "      <td>9233450</td>\n",
       "      <td>واحد سنجش</td>\n",
       "      <td>و آزمون فرادرس</td>\n",
       "      <td>NaN</td>\n",
       "      <td>NaN</td>\n",
       "      <td>NaN</td>\n",
       "      <td>NaN</td>\n",
       "      <td>NaN</td>\n",
       "      <td>NaN</td>\n",
       "      <td>word.profile_degree.</td>\n",
       "      <td>humanities|law</td>\n",
       "      <td>علوم انسانی|حقوق</td>\n",
       "      <td>0</td>\n",
       "      <td>1</td>\n",
       "      <td>exam</td>\n",
       "      <td>0</td>\n",
       "      <td>2023-07-13T14:24:28.000000Z</td>\n",
       "      <td>0.0</td>\n",
       "      <td>0</td>\n",
       "    </tr>\n",
       "    <tr>\n",
       "      <th>4</th>\n",
       "      <td>9233422</td>\n",
       "      <td>واحد سنجش</td>\n",
       "      <td>و آزمون فرادرس</td>\n",
       "      <td>NaN</td>\n",
       "      <td>NaN</td>\n",
       "      <td>NaN</td>\n",
       "      <td>NaN</td>\n",
       "      <td>NaN</td>\n",
       "      <td>NaN</td>\n",
       "      <td>word.profile_degree.</td>\n",
       "      <td>science|engineering|electrical-engineering</td>\n",
       "      <td>علوم پایه و میان‌رشته‌ای|فنی و مهندسی|مهندسی برق</td>\n",
       "      <td>0</td>\n",
       "      <td>3</td>\n",
       "      <td>exam</td>\n",
       "      <td>0</td>\n",
       "      <td>2023-07-11T21:09:16.000000Z</td>\n",
       "      <td>0.0</td>\n",
       "      <td>0</td>\n",
       "    </tr>\n",
       "  </tbody>\n",
       "</table>\n",
       "</div>"
      ],
      "text/plain": [
       "        id first_name       last_name  first_name_en  last_name_en  gender  \\\n",
       "0  9233420  واحد سنجش  و آزمون فرادرس            NaN           NaN     NaN   \n",
       "1  9233417  واحد سنجش  و آزمون فرادرس            NaN           NaN     NaN   \n",
       "2  9233488  واحد سنجش  و آزمون فرادرس            NaN           NaN     NaN   \n",
       "3  9233450  واحد سنجش  و آزمون فرادرس            NaN           NaN     NaN   \n",
       "4  9233422  واحد سنجش  و آزمون فرادرس            NaN           NaN     NaN   \n",
       "\n",
       "   photo field profile_picture                 degree  \\\n",
       "0    NaN   NaN             NaN  word.profile_degree.    \n",
       "1    NaN   NaN             NaN  word.profile_degree.    \n",
       "2    NaN   NaN             NaN  word.profile_degree.    \n",
       "3    NaN   NaN             NaN  word.profile_degree.    \n",
       "4    NaN   NaN             NaN  word.profile_degree.    \n",
       "\n",
       "                                          categories  \\\n",
       "0                            geology|min-geosciences   \n",
       "1                                        engineering   \n",
       "2  academic-courses|postgraduate-entrance|agricul...   \n",
       "3                                     humanities|law   \n",
       "4         science|engineering|electrical-engineering   \n",
       "\n",
       "                                      categories_fa  price  sold_n  type  \\\n",
       "0                زمین‌شناسی|مهندسی معدن و علوم زمین      0       4  exam   \n",
       "1                                      فنی و مهندسی      0       4  exam   \n",
       "2  آموزش‌های دانشگاهی|تحصیلات تکمیلی|مهندسی کشاورزی      0       2  exam   \n",
       "3                                  علوم انسانی|حقوق      0       1  exam   \n",
       "4  علوم پایه و میان‌رشته‌ای|فنی و مهندسی|مهندسی برق      0       3  exam   \n",
       "\n",
       "   duration                    createdAt  rating  rating_n  \n",
       "0         0  2023-07-11T20:03:15.000000Z     0.0         0  \n",
       "1         0  2023-07-11T16:54:54.000000Z     0.0         0  \n",
       "2         0  2023-07-15T21:34:37.000000Z     0.0         0  \n",
       "3         0  2023-07-13T14:24:28.000000Z     0.0         0  \n",
       "4         0  2023-07-11T21:09:16.000000Z     0.0         0  "
      ]
     },
     "execution_count": 3,
     "metadata": {},
     "output_type": "execute_result"
    }
   ],
   "source": [
    "dfs = []\n",
    "\n",
    "for ds in listDatasets:\n",
    "\tdfs.append( pd.read_csv( f\"{ path}/{ ds}\"))\n",
    "\n",
    "df = pd.concat( dfs)\n",
    "\n",
    "df.head()"
   ]
  },
  {
   "cell_type": "code",
   "execution_count": 4,
   "metadata": {},
   "outputs": [
    {
     "data": {
      "text/plain": [
       "array(['exam', 'course', 'podcast', 'blind', 'webinar'], dtype=object)"
      ]
     },
     "execution_count": 4,
     "metadata": {},
     "output_type": "execute_result"
    }
   ],
   "source": [
    "df[ \"type\"].unique()"
   ]
  },
  {
   "cell_type": "code",
   "execution_count": 5,
   "metadata": {},
   "outputs": [
    {
     "data": {
      "text/plain": [
       "type\n",
       "blind        20\n",
       "course     6604\n",
       "exam        151\n",
       "podcast      15\n",
       "webinar      78\n",
       "Name: id, dtype: int64"
      ]
     },
     "execution_count": 5,
     "metadata": {},
     "output_type": "execute_result"
    }
   ],
   "source": [
    "df.groupby( \"type\").count()[ \"id\"]"
   ]
  },
  {
   "cell_type": "code",
   "execution_count": 6,
   "metadata": {},
   "outputs": [],
   "source": [
    "courses = df[ df[ \"type\"] == \"course\"]"
   ]
  },
  {
   "cell_type": "code",
   "execution_count": 7,
   "metadata": {},
   "outputs": [
    {
     "name": "stderr",
     "output_type": "stream",
     "text": [
      "C:\\Users\\karimi\\AppData\\Local\\Temp\\ipykernel_4312\\3003294357.py:1: SettingWithCopyWarning: \n",
      "A value is trying to be set on a copy of a slice from a DataFrame.\n",
      "Try using .loc[row_indexer,col_indexer] = value instead\n",
      "\n",
      "See the caveats in the documentation: https://pandas.pydata.org/pandas-docs/stable/user_guide/indexing.html#returning-a-view-versus-a-copy\n",
      "  courses[ \"full_name\"] = courses[ \"first_name\"] + \" \" + courses[ \"last_name\"]\n"
     ]
    }
   ],
   "source": [
    "courses[ \"full_name\"] = courses[ \"first_name\"] + \" \" + courses[ \"last_name\"]"
   ]
  },
  {
   "cell_type": "code",
   "execution_count": 8,
   "metadata": {},
   "outputs": [
    {
     "data": {
      "text/plain": [
       "full_name\n",
       " رضا جهانگیر        5\n",
       "آتنا اخوان قمی      2\n",
       "آذین مرادی          2\n",
       "آرتا اسدی           1\n",
       "آرزو راستگو         1\n",
       "                   ..\n",
       "یونس شکوهی          1\n",
       "یونس کاویانی راد    1\n",
       "یکتا صبایی          2\n",
       "یگانه آقامحمدی      8\n",
       "یگانه فنایی         1\n",
       "Name: id, Length: 2054, dtype: int64"
      ]
     },
     "execution_count": 8,
     "metadata": {},
     "output_type": "execute_result"
    }
   ],
   "source": [
    "count_of_courses = courses.groupby( \"full_name\")[ \"id\"].count()\n",
    "\n",
    "count_of_courses"
   ]
  },
  {
   "cell_type": "code",
   "execution_count": 9,
   "metadata": {},
   "outputs": [
    {
     "data": {
      "text/plain": [
       "full_name\n",
       " رضا جهانگیر        آموزش‌های فرادرسی رایگان|فیزیک|مهندسی پزشکی|آم...\n",
       "آتنا اخوان قمی      سفالگری|کودکان و نوجوانان|مهارت‌های کودکان و ن...\n",
       "آذین مرادی          کسب‌و‌کار|مدیریت|توسعه فردی|آموزش‌های عمومی|مد...\n",
       "آرتا اسدی           مهندسی کامپیوتر|مهندسی نرم‌افزار|بورس و بازار ...\n",
       "آرزو راستگو                                     علوم انسانی|روانشناسی\n",
       "                                          ...                        \n",
       "یونس شکوهی          برنامه‌نویسی|زبان‌های برنامه‌نویسی|پایتون|پردا...\n",
       "یونس کاویانی راد                       آموزش‌های عمومی|سرویس های گوگل\n",
       "یکتا صبایی          آموزش‌های فرادرسی رایگان|تربیت بدنی و علوم ورز...\n",
       "یگانه آقامحمدی      مهندسی کامپیوتر|برنامه‌نویسی|پایتون|مهندسی الک...\n",
       "یگانه فنایی                                مهندسی پزشکی|مهندسی مکانیک\n",
       "Name: categories_fa, Length: 2054, dtype: object"
      ]
     },
     "execution_count": 9,
     "metadata": {},
     "output_type": "execute_result"
    }
   ],
   "source": [
    "all_categories = courses.groupby( \"full_name\")[ \"categories_fa\"].apply( lambda d: \"|\".join( [ str( x) for x in d.values]))\n",
    "\n",
    "all_categories"
   ]
  },
  {
   "cell_type": "code",
   "execution_count": 10,
   "metadata": {},
   "outputs": [
    {
     "data": {
      "text/plain": [
       "full_name\n",
       " رضا جهانگیر         786\n",
       "آتنا اخوان قمی       249\n",
       "آذین مرادی           123\n",
       "آرتا اسدی            379\n",
       "آرزو راستگو         1814\n",
       "                    ... \n",
       "یونس شکوهی           345\n",
       "یونس کاویانی راد     148\n",
       "یکتا صبایی           963\n",
       "یگانه آقامحمدی      6945\n",
       "یگانه فنایی          467\n",
       "Name: sold_n, Length: 2054, dtype: int64"
      ]
     },
     "execution_count": 10,
     "metadata": {},
     "output_type": "execute_result"
    }
   ],
   "source": [
    "sum_of_sales = courses.groupby( \"full_name\")[ \"sold_n\"].sum()\n",
    "\n",
    "sum_of_sales"
   ]
  },
  {
   "cell_type": "code",
   "execution_count": 11,
   "metadata": {},
   "outputs": [
    {
     "data": {
      "text/plain": [
       "full_name\n",
       " رضا جهانگیر        105800.0\n",
       "آتنا اخوان قمی      404000.0\n",
       "آذین مرادی          384000.0\n",
       "آرتا اسدی           349000.0\n",
       "آرزو راستگو         319000.0\n",
       "                      ...   \n",
       "یونس شکوهی          449000.0\n",
       "یونس کاویانی راد    129000.0\n",
       "یکتا صبایی          224500.0\n",
       "یگانه آقامحمدی      296500.0\n",
       "یگانه فنایی         449000.0\n",
       "Name: price, Length: 2054, dtype: float64"
      ]
     },
     "execution_count": 11,
     "metadata": {},
     "output_type": "execute_result"
    }
   ],
   "source": [
    "average_price = courses.groupby( \"full_name\")[ \"price\"].mean()\n",
    "\n",
    "average_price"
   ]
  },
  {
   "cell_type": "code",
   "execution_count": 12,
   "metadata": {},
   "outputs": [
    {
     "data": {
      "text/plain": [
       "full_name\n",
       " رضا جهانگیر         179860000\n",
       "آتنا اخوان قمی        94381000\n",
       "آذین مرادی            49017000\n",
       "آرتا اسدی            132271000\n",
       "آرزو راستگو          578666000\n",
       "                       ...    \n",
       "یونس شکوهی           154905000\n",
       "یونس کاویانی راد      19092000\n",
       "یکتا صبایی           233929000\n",
       "یگانه آقامحمدی      2091585000\n",
       "یگانه فنایی          209683000\n",
       "Length: 2054, dtype: int64"
      ]
     },
     "execution_count": 12,
     "metadata": {},
     "output_type": "execute_result"
    }
   ],
   "source": [
    "income = courses.groupby( \"full_name\")[ [ \"price\", \"sold_n\"]].apply( lambda d: ( d[ \"price\"] * d[ \"sold_n\"]).sum())\n",
    "\n",
    "income"
   ]
  },
  {
   "cell_type": "code",
   "execution_count": 13,
   "metadata": {},
   "outputs": [
    {
     "data": {
      "text/plain": [
       "full_name\n",
       " رضا جهانگیر        https://faradars.org/wp-content/uploads/2019/1...\n",
       "آتنا اخوان قمی      https://faradars.org/wp-content/uploads/2022/0...\n",
       "آذین مرادی          https://faradars.org/wp-content/uploads/2023/0...\n",
       "آرتا اسدی           https://faradars.org/wp-content/uploads/2023/0...\n",
       "آرزو راستگو         https://faradars.org/wp-content/uploads/2020/0...\n",
       "                                          ...                        \n",
       "یونس شکوهی          https://faradars.org/wp-content/uploads/2021/1...\n",
       "یونس کاویانی راد    https://faradars.org/wp-content/uploads/2022/0...\n",
       "یکتا صبایی          https://faradars.org/wp-content/uploads/2020/0...\n",
       "یگانه آقامحمدی      https://faradars.org/wp-content/uploads/2018/0...\n",
       "یگانه فنایی         https://faradars.org/wp-content/uploads/2020/0...\n",
       "Name: profile_picture, Length: 2054, dtype: object"
      ]
     },
     "execution_count": 13,
     "metadata": {},
     "output_type": "execute_result"
    }
   ],
   "source": [
    "profile_picture = courses.groupby( \"full_name\")[ \"profile_picture\"].apply( lambda d: d.unique()[ 0])\n",
    "\n",
    "profile_picture"
   ]
  },
  {
   "cell_type": "code",
   "execution_count": 14,
   "metadata": {},
   "outputs": [
    {
     "data": {
      "text/plain": [
       "full_name\n",
       " رضا جهانگیر        مهندسی پرتوپزشکی|مهندسی پرتوپزشکی|مهندسی پرتوپ...\n",
       "آتنا اخوان قمی                                    پژوهش هنر|پژوهش هنر\n",
       "آذین مرادی                                  مهندسی صنایع|مهندسی صنایع\n",
       "آرتا اسدی                                مهندسی کامپیوتر – هوش مصنوعی\n",
       "آرزو راستگو                                          روانشناسی بالینی\n",
       "                                          ...                        \n",
       "یونس شکوهی                                  مهندسی پزشکی - بیوالکتریک\n",
       "یونس کاویانی راد                                         مهندسی عمران\n",
       "یکتا صبایی          فیزیولوژی ورزشی - قلب و عروق|فیزیولوژی ورزشی -...\n",
       "یگانه آقامحمدی      مهندسی کامپیوتر – نرم‌افزار|مهندسی کامپیوتر – ...\n",
       "یگانه فنایی                                  مهندسی پزشکی - بیومکانیک\n",
       "Name: field, Length: 2054, dtype: object"
      ]
     },
     "execution_count": 14,
     "metadata": {},
     "output_type": "execute_result"
    }
   ],
   "source": [
    "fields = courses.groupby( \"full_name\")[ \"field\"].apply( lambda d: \"|\".join( [ str( x) for x in d.values]))\n",
    "\n",
    "fields"
   ]
  },
  {
   "cell_type": "code",
   "execution_count": 15,
   "metadata": {},
   "outputs": [
    {
     "data": {
      "text/plain": [
       "full_name\n",
       " رضا جهانگیر        162.200\n",
       "آتنا اخوان قمی      218.000\n",
       "آذین مرادی          141.500\n",
       "آرتا اسدی           138.000\n",
       "آرزو راستگو         207.000\n",
       "                     ...   \n",
       "یونس شکوهی          260.000\n",
       "یونس کاویانی راد     39.000\n",
       "یکتا صبایی          150.000\n",
       "یگانه آقامحمدی       97.125\n",
       "یگانه فنایی         254.000\n",
       "Name: duration, Length: 2054, dtype: float64"
      ]
     },
     "execution_count": 15,
     "metadata": {},
     "output_type": "execute_result"
    }
   ],
   "source": [
    "average_duration_of_courses = courses.groupby( \"full_name\")[ \"duration\"].mean()\n",
    "\n",
    "average_duration_of_courses"
   ]
  },
  {
   "cell_type": "code",
   "execution_count": 16,
   "metadata": {},
   "outputs": [
    {
     "data": {
      "text/plain": [
       "full_name\n",
       " رضا جهانگیر        811\n",
       "آتنا اخوان قمی      436\n",
       "آذین مرادی          283\n",
       "آرتا اسدی           138\n",
       "آرزو راستگو         207\n",
       "                   ... \n",
       "یونس شکوهی          260\n",
       "یونس کاویانی راد     39\n",
       "یکتا صبایی          300\n",
       "یگانه آقامحمدی      777\n",
       "یگانه فنایی         254\n",
       "Name: duration, Length: 2054, dtype: int64"
      ]
     },
     "execution_count": 16,
     "metadata": {},
     "output_type": "execute_result"
    }
   ],
   "source": [
    "sum_of_courses_duration = courses.groupby( \"full_name\")[ \"duration\"].sum()\n",
    "\n",
    "sum_of_courses_duration"
   ]
  },
  {
   "cell_type": "code",
   "execution_count": 17,
   "metadata": {},
   "outputs": [
    {
     "data": {
      "text/plain": [
       "full_name\n",
       " رضا جهانگیر        1.000\n",
       "آتنا اخوان قمی      4.280\n",
       "آذین مرادی          2.440\n",
       "آرتا اسدی           3.140\n",
       "آرزو راستگو         4.670\n",
       "                    ...  \n",
       "یونس شکوهی          4.880\n",
       "یونس کاویانی راد    0.000\n",
       "یکتا صبایی          2.440\n",
       "یگانه آقامحمدی      3.765\n",
       "یگانه فنایی         4.760\n",
       "Name: rating, Length: 2054, dtype: float64"
      ]
     },
     "execution_count": 17,
     "metadata": {},
     "output_type": "execute_result"
    }
   ],
   "source": [
    "average_of_rates = courses.groupby( \"full_name\")[ \"rating\"].mean()\n",
    "\n",
    "average_of_rates"
   ]
  },
  {
   "cell_type": "code",
   "execution_count": 18,
   "metadata": {},
   "outputs": [
    {
     "data": {
      "text/plain": [
       "full_name\n",
       " رضا جهانگیر         0.400\n",
       "آتنا اخوان قمی       4.000\n",
       "آذین مرادی           0.500\n",
       "آرتا اسدی           10.000\n",
       "آرزو راستگو          9.000\n",
       "                     ...  \n",
       "یونس شکوهی           5.000\n",
       "یونس کاویانی راد     0.000\n",
       "یکتا صبایی           1.000\n",
       "یگانه آقامحمدی       4.375\n",
       "یگانه فنایی          4.000\n",
       "Name: rating_n, Length: 2054, dtype: float64"
      ]
     },
     "execution_count": 18,
     "metadata": {},
     "output_type": "execute_result"
    }
   ],
   "source": [
    "average_of_rate_numbers_per_courses = courses.groupby( \"full_name\")[ \"rating_n\"].mean()\n",
    "\n",
    "average_of_rate_numbers_per_courses"
   ]
  },
  {
   "cell_type": "code",
   "execution_count": 19,
   "metadata": {},
   "outputs": [
    {
     "data": {
      "text/plain": [
       "full_name\n",
       " رضا جهانگیر         2\n",
       "آتنا اخوان قمی       8\n",
       "آذین مرادی           1\n",
       "آرتا اسدی           10\n",
       "آرزو راستگو          9\n",
       "                    ..\n",
       "یونس شکوهی           5\n",
       "یونس کاویانی راد     0\n",
       "یکتا صبایی           2\n",
       "یگانه آقامحمدی      35\n",
       "یگانه فنایی          4\n",
       "Name: rating_n, Length: 2054, dtype: int64"
      ]
     },
     "execution_count": 19,
     "metadata": {},
     "output_type": "execute_result"
    }
   ],
   "source": [
    "total_number_of_rates = courses.groupby( \"full_name\")[ \"rating_n\"].sum()\n",
    "\n",
    "total_number_of_rates"
   ]
  },
  {
   "cell_type": "code",
   "execution_count": 21,
   "metadata": {},
   "outputs": [],
   "source": [
    "result = pd.concat( [\n",
    "\tcount_of_courses,\n",
    "\tall_categories,\n",
    "\tsum_of_sales,\n",
    "\taverage_price,\n",
    "\tincome,\n",
    "\tprofile_picture,\n",
    "\tfields,\n",
    "\taverage_duration_of_courses,\n",
    "\tsum_of_courses_duration,\n",
    "\taverage_of_rates,\n",
    "\taverage_of_rate_numbers_per_courses,\n",
    "\ttotal_number_of_rates\n",
    "], axis=1)\n",
    "\n",
    "result.columns = [\n",
    "\t\"count_of_courses\",\n",
    "\t\"categories\",\n",
    "\t\"number_of_sales\",\n",
    "\t\"average_price\",\n",
    "\t\"total_sale\",\n",
    "\t\"profile_picture\",\n",
    "\t\"field\",\n",
    "\t\"average_duration_of_courses\",\n",
    "\t\"sum_of_courses_duration\",\n",
    "\t\"average_of_ratings\",\n",
    "\t\"average_of_rating_numbers_per_course\",\n",
    "\t\"total_number_of_rates\"\n",
    "]"
   ]
  },
  {
   "cell_type": "code",
   "execution_count": 22,
   "metadata": {},
   "outputs": [
    {
     "data": {
      "text/html": [
       "<div>\n",
       "<style scoped>\n",
       "    .dataframe tbody tr th:only-of-type {\n",
       "        vertical-align: middle;\n",
       "    }\n",
       "\n",
       "    .dataframe tbody tr th {\n",
       "        vertical-align: top;\n",
       "    }\n",
       "\n",
       "    .dataframe thead th {\n",
       "        text-align: right;\n",
       "    }\n",
       "</style>\n",
       "<table border=\"1\" class=\"dataframe\">\n",
       "  <thead>\n",
       "    <tr style=\"text-align: right;\">\n",
       "      <th></th>\n",
       "      <th>count_of_courses</th>\n",
       "      <th>categories</th>\n",
       "      <th>number_of_sales</th>\n",
       "      <th>average_price</th>\n",
       "      <th>total_sale</th>\n",
       "      <th>profile_picture</th>\n",
       "      <th>field</th>\n",
       "      <th>average_duration_of_courses</th>\n",
       "      <th>sum_of_courses_duration</th>\n",
       "      <th>average_of_ratings</th>\n",
       "      <th>average_of_rating_numbers_per_course</th>\n",
       "      <th>total_number_of_rates</th>\n",
       "    </tr>\n",
       "    <tr>\n",
       "      <th>full_name</th>\n",
       "      <th></th>\n",
       "      <th></th>\n",
       "      <th></th>\n",
       "      <th></th>\n",
       "      <th></th>\n",
       "      <th></th>\n",
       "      <th></th>\n",
       "      <th></th>\n",
       "      <th></th>\n",
       "      <th></th>\n",
       "      <th></th>\n",
       "      <th></th>\n",
       "    </tr>\n",
       "  </thead>\n",
       "  <tbody>\n",
       "    <tr>\n",
       "      <th>رضا جهانگیر</th>\n",
       "      <td>5</td>\n",
       "      <td>آموزش‌های فرادرسی رایگان|فیزیک|مهندسی پزشکی|آم...</td>\n",
       "      <td>786</td>\n",
       "      <td>105800.0</td>\n",
       "      <td>179860000</td>\n",
       "      <td>https://faradars.org/wp-content/uploads/2019/1...</td>\n",
       "      <td>مهندسی پرتوپزشکی|مهندسی پرتوپزشکی|مهندسی پرتوپ...</td>\n",
       "      <td>162.2</td>\n",
       "      <td>811</td>\n",
       "      <td>1.00</td>\n",
       "      <td>0.4</td>\n",
       "      <td>2</td>\n",
       "    </tr>\n",
       "    <tr>\n",
       "      <th>آتنا اخوان قمی</th>\n",
       "      <td>2</td>\n",
       "      <td>سفالگری|کودکان و نوجوانان|مهارت‌های کودکان و ن...</td>\n",
       "      <td>249</td>\n",
       "      <td>404000.0</td>\n",
       "      <td>94381000</td>\n",
       "      <td>https://faradars.org/wp-content/uploads/2022/0...</td>\n",
       "      <td>پژوهش هنر|پژوهش هنر</td>\n",
       "      <td>218.0</td>\n",
       "      <td>436</td>\n",
       "      <td>4.28</td>\n",
       "      <td>4.0</td>\n",
       "      <td>8</td>\n",
       "    </tr>\n",
       "  </tbody>\n",
       "</table>\n",
       "</div>"
      ],
      "text/plain": [
       "                count_of_courses  \\\n",
       "full_name                          \n",
       " رضا جهانگیر                   5   \n",
       "آتنا اخوان قمی                 2   \n",
       "\n",
       "                                                       categories  \\\n",
       "full_name                                                           \n",
       " رضا جهانگیر    آموزش‌های فرادرسی رایگان|فیزیک|مهندسی پزشکی|آم...   \n",
       "آتنا اخوان قمی  سفالگری|کودکان و نوجوانان|مهارت‌های کودکان و ن...   \n",
       "\n",
       "                number_of_sales  average_price  total_sale  \\\n",
       "full_name                                                    \n",
       " رضا جهانگیر                786       105800.0   179860000   \n",
       "آتنا اخوان قمی              249       404000.0    94381000   \n",
       "\n",
       "                                                  profile_picture  \\\n",
       "full_name                                                           \n",
       " رضا جهانگیر    https://faradars.org/wp-content/uploads/2019/1...   \n",
       "آتنا اخوان قمی  https://faradars.org/wp-content/uploads/2022/0...   \n",
       "\n",
       "                                                            field  \\\n",
       "full_name                                                           \n",
       " رضا جهانگیر    مهندسی پرتوپزشکی|مهندسی پرتوپزشکی|مهندسی پرتوپ...   \n",
       "آتنا اخوان قمی                                پژوهش هنر|پژوهش هنر   \n",
       "\n",
       "                average_duration_of_courses  sum_of_courses_duration  \\\n",
       "full_name                                                              \n",
       " رضا جهانگیر                          162.2                      811   \n",
       "آتنا اخوان قمی                        218.0                      436   \n",
       "\n",
       "                average_of_ratings  average_of_rating_numbers_per_course  \\\n",
       "full_name                                                                  \n",
       " رضا جهانگیر                  1.00                                   0.4   \n",
       "آتنا اخوان قمی                4.28                                   4.0   \n",
       "\n",
       "                total_number_of_rates  \n",
       "full_name                              \n",
       " رضا جهانگیر                        2  \n",
       "آتنا اخوان قمی                      8  "
      ]
     },
     "execution_count": 22,
     "metadata": {},
     "output_type": "execute_result"
    }
   ],
   "source": [
    "result.head( 2)"
   ]
  }
 ],
 "metadata": {
  "kernelspec": {
   "display_name": "Python 3.8.6 64-bit",
   "language": "python",
   "name": "python3"
  },
  "language_info": {
   "codemirror_mode": {
    "name": "ipython",
    "version": 3
   },
   "file_extension": ".py",
   "mimetype": "text/x-python",
   "name": "python",
   "nbconvert_exporter": "python",
   "pygments_lexer": "ipython3",
   "version": "3.8.6"
  },
  "orig_nbformat": 4,
  "vscode": {
   "interpreter": {
    "hash": "cccb80c535c03ea85c927d83b1212f93133456f0701648b808e4e1f70d2d0413"
   }
  }
 },
 "nbformat": 4,
 "nbformat_minor": 2
}
